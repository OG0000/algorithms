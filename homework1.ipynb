{
  "nbformat": 4,
  "nbformat_minor": 0,
  "metadata": {
    "colab": {
      "provenance": []
    },
    "kernelspec": {
      "name": "python3",
      "display_name": "Python 3"
    },
    "language_info": {
      "name": "python"
    }
  },
  "cells": [
    {
      "cell_type": "code",
      "execution_count": null,
      "metadata": {
        "colab": {
          "base_uri": "https://localhost:8080/"
        },
        "id": "pCCvh05lTJi3",
        "outputId": "c198cf28-841d-40dc-dd7c-eb5c7eba0f0e"
      },
      "outputs": [
        {
          "output_type": "stream",
          "name": "stdout",
          "text": [
            "5\n"
          ]
        }
      ],
      "source": [
        "a = 3\n",
        "b = 2\n",
        "sum = a+b\n",
        "print(sum)"
      ]
    },
    {
      "cell_type": "code",
      "source": [
        "type(sum)"
      ],
      "metadata": {
        "colab": {
          "base_uri": "https://localhost:8080/"
        },
        "id": "ukxaD5_xUbaz",
        "outputId": "9688f43a-5f7f-412c-804f-6ec9b5ff348d"
      },
      "execution_count": null,
      "outputs": [
        {
          "output_type": "execute_result",
          "data": {
            "text/plain": [
              "int"
            ]
          },
          "metadata": {},
          "execution_count": 2
        }
      ]
    },
    {
      "cell_type": "code",
      "source": [
        "string = \"string\"\n",
        "type(string)"
      ],
      "metadata": {
        "colab": {
          "base_uri": "https://localhost:8080/"
        },
        "id": "LSGtuZBJUpRB",
        "outputId": "44b10683-a922-49a6-cb27-fa9e4190c9cf"
      },
      "execution_count": null,
      "outputs": [
        {
          "output_type": "execute_result",
          "data": {
            "text/plain": [
              "str"
            ]
          },
          "metadata": {},
          "execution_count": 3
        }
      ]
    },
    {
      "cell_type": "code",
      "source": [
        "age = int(input(\"Enter age: \"))\n",
        "if age >= 18:\n",
        "  print(\"You can vote\")\n",
        "else:\n",
        "  print(\"You can't vote\")"
      ],
      "metadata": {
        "colab": {
          "base_uri": "https://localhost:8080/"
        },
        "id": "t595GtncVD6p",
        "outputId": "3c354709-12e0-4714-c54a-201e2d427e47"
      },
      "execution_count": null,
      "outputs": [
        {
          "output_type": "stream",
          "name": "stdout",
          "text": [
            "Enter age: 18\n",
            "You can vote\n"
          ]
        }
      ]
    },
    {
      "cell_type": "code",
      "source": [
        "a = 3\n",
        "b = 4\n",
        "c = 5\n",
        "if a > b:\n",
        "  if a > c:\n",
        "    print(\"a is bigger\")\n",
        "  else:\n",
        "    print(\"c is bigger\")\n",
        "else:\n",
        "  if b > c:\n",
        "    print(\"b is bigger\")\n",
        "  else:\n",
        "    print(\"c is bigger\")"
      ],
      "metadata": {
        "colab": {
          "base_uri": "https://localhost:8080/"
        },
        "id": "ySxCE1x7VrYu",
        "outputId": "e261c07a-11ec-4802-819a-a41cebb8e6e9"
      },
      "execution_count": null,
      "outputs": [
        {
          "output_type": "stream",
          "name": "stdout",
          "text": [
            "c is bigger\n"
          ]
        }
      ]
    },
    {
      "cell_type": "code",
      "source": [
        "for i in range(50, -1, -2):\n",
        "  print(i, \",\")"
      ],
      "metadata": {
        "id": "29X-ejQBWFfP"
      },
      "execution_count": null,
      "outputs": []
    },
    {
      "cell_type": "code",
      "source": [
        "array = [1, 2, 3, 4, 5, 6, 7, 8, 9]\n",
        "array2 = []\n",
        "for i in range(len(array)-1, -1, -1):\n",
        "  array2.append(array[i])\n",
        "\n",
        "for n in array2:\n",
        "  print(n)"
      ],
      "metadata": {
        "colab": {
          "base_uri": "https://localhost:8080/"
        },
        "id": "zKZofsOjWtGe",
        "outputId": "b8cdd804-6971-400e-ce55-f7d45641943b"
      },
      "execution_count": null,
      "outputs": [
        {
          "output_type": "stream",
          "name": "stdout",
          "text": [
            "9\n",
            "8\n",
            "7\n",
            "6\n",
            "5\n",
            "4\n",
            "3\n",
            "2\n",
            "1\n"
          ]
        }
      ]
    },
    {
      "cell_type": "code",
      "source": [
        "array = [1, 2, 3, 4, 5, 6, 7, 8, 9]\n",
        "array[::-1]\n",
        "string = \"string\"\n",
        "string[::-1]"
      ],
      "metadata": {
        "colab": {
          "base_uri": "https://localhost:8080/",
          "height": 35
        },
        "id": "WQzMBuQWYKdt",
        "outputId": "8b281282-06b9-49ad-c9c6-fe31d10e5d17"
      },
      "execution_count": null,
      "outputs": [
        {
          "output_type": "execute_result",
          "data": {
            "text/plain": [
              "'gnirts'"
            ],
            "application/vnd.google.colaboratory.intrinsic+json": {
              "type": "string"
            }
          },
          "metadata": {},
          "execution_count": 27
        }
      ]
    },
    {
      "cell_type": "code",
      "source": [
        "array = [1, 2, 3, 4, 5, 6, 7, 10, 8]\n",
        "max = array[0]\n",
        "second_max = 0\n",
        "for n in array:\n",
        "  if n > max:\n",
        "    second_max = max\n",
        "    max = n\n",
        "  elif n > second_max:\n",
        "    second_max = n\n",
        "\n",
        "second_max"
      ],
      "metadata": {
        "colab": {
          "base_uri": "https://localhost:8080/"
        },
        "id": "oUnarjNRZzg_",
        "outputId": "a22d9e52-bfd0-45a5-ab51-4b3fae17a6ce"
      },
      "execution_count": null,
      "outputs": [
        {
          "output_type": "execute_result",
          "data": {
            "text/plain": [
              "7"
            ]
          },
          "metadata": {},
          "execution_count": 38
        }
      ]
    },
    {
      "cell_type": "code",
      "source": [
        "def get_second_max(array):\n",
        "  max = array[0]\n",
        "  second_max = 0\n",
        "  for n in array:\n",
        "    if n > max:\n",
        "      second_max = max\n",
        "      max = n\n",
        "    elif n > second_max:\n",
        "      second_max = n\n",
        "  return second_max\n",
        "\n",
        "second_max = get_second_max(array)\n",
        "print(second_max)"
      ],
      "metadata": {
        "colab": {
          "base_uri": "https://localhost:8080/"
        },
        "id": "EcG0Ek-JcY-q",
        "outputId": "e60873c2-7fcb-4aa9-c847-22d6b65e0df7"
      },
      "execution_count": null,
      "outputs": [
        {
          "output_type": "stream",
          "name": "stdout",
          "text": [
            "8\n"
          ]
        }
      ]
    },
    {
      "cell_type": "code",
      "source": [
        "word = \"hello\"\n",
        "s = set(word)\n",
        "array = list(s)\n",
        "print(len(array))"
      ],
      "metadata": {
        "colab": {
          "base_uri": "https://localhost:8080/"
        },
        "id": "iabtwHkrFqRR",
        "outputId": "e1c850a3-df16-49bb-cef9-e1c033c83dd9"
      },
      "execution_count": 1,
      "outputs": [
        {
          "output_type": "stream",
          "name": "stdout",
          "text": [
            "4\n"
          ]
        }
      ]
    },
    {
      "cell_type": "code",
      "source": [
        "l = [2, 4, 5, 6, 89, 2, 1, 4, 5, 6]\n",
        "hasFive = False\n",
        "for n in l:\n",
        "  if n == 5:\n",
        "    hasFive = True\n",
        "    break\n",
        "\n",
        "if hasFive:\n",
        "  print(\"There is a five\")\n",
        "else:\n",
        "  print(\"There is no five\")"
      ],
      "metadata": {
        "colab": {
          "base_uri": "https://localhost:8080/"
        },
        "id": "v_c-emryGSlJ",
        "outputId": "83a479a8-dc6e-494b-f927-6656ae29f94f"
      },
      "execution_count": 3,
      "outputs": [
        {
          "output_type": "stream",
          "name": "stdout",
          "text": [
            "There is a five\n"
          ]
        }
      ]
    },
    {
      "cell_type": "code",
      "source": [
        "import math"
      ],
      "metadata": {
        "id": "CwY8OcmGNCIs"
      },
      "execution_count": 15,
      "outputs": []
    },
    {
      "cell_type": "code",
      "source": [
        "array = [1, 2, 5, 32, 33, 50, 100]\n",
        "def binary_search(array, num, left, right):\n",
        "  if left <= right:\n",
        "    mid = left + (right-left) // 2\n",
        "    if array[mid] == num:\n",
        "      return mid\n",
        "    if num < array[mid]:\n",
        "      return binary_search(array, num, left, mid-1)\n",
        "    if num > array[mid]:\n",
        "      return binary_search(array, num, mid+1, right)\n",
        "  else:\n",
        "    return -1\n",
        "\n",
        "binary_search(array, 5, 0, len(array)-1)\n",
        "math.log2(1000000000000000)"
      ],
      "metadata": {
        "colab": {
          "base_uri": "https://localhost:8080/"
        },
        "id": "4yBqXF5sHfIH",
        "outputId": "011dd14f-fcd0-4a4e-c38b-eff2524aaa0e"
      },
      "execution_count": 23,
      "outputs": [
        {
          "output_type": "execute_result",
          "data": {
            "text/plain": [
              "49.82892142331043"
            ]
          },
          "metadata": {},
          "execution_count": 23
        }
      ]
    },
    {
      "cell_type": "code",
      "source": [
        "s = set([2, 3, 4, 5, 6, 2, 4, 2, 2])\n",
        "if 5 in s:\n",
        "  print(\"5 is in the set\")\n",
        "else:\n",
        "  print(\"5 isnt in the set\")"
      ],
      "metadata": {
        "colab": {
          "base_uri": "https://localhost:8080/"
        },
        "id": "JqGOVOg-QUSV",
        "outputId": "bb71c980-4c07-4e22-924a-34ab0b32cfe0"
      },
      "execution_count": 26,
      "outputs": [
        {
          "output_type": "stream",
          "name": "stdout",
          "text": [
            "5 is in the set\n"
          ]
        }
      ]
    },
    {
      "cell_type": "code",
      "source": [
        "import random\n",
        "import time"
      ],
      "metadata": {
        "id": "hU3LaiT1Rz2p"
      },
      "execution_count": 27,
      "outputs": []
    },
    {
      "cell_type": "code",
      "source": [
        "random_integers = [random.randint(1, 100) for _ in range(50000000)]\n",
        "random_integers.append(101)"
      ],
      "metadata": {
        "id": "uudlaCIUTxaz"
      },
      "execution_count": 57,
      "outputs": []
    },
    {
      "cell_type": "code",
      "source": [
        "# Value to search for\n",
        "target_value = 101\n",
        "\n",
        "# Start measuring time for search\n",
        "start_time = time.time()\n",
        "\n",
        "# Check if the target value is in the list\n",
        "if target_value in random_integers:\n",
        "  search_time = time.time() - start_time\n",
        "  print(f\"Target value {target_value}, time: {search_time}\")\n",
        "\n",
        "#0.01469\n",
        "#0.083\n",
        "#0.16696\n",
        "#0.33557\n",
        "#0.518"
      ],
      "metadata": {
        "colab": {
          "base_uri": "https://localhost:8080/"
        },
        "id": "qdJEYWV9RinN",
        "outputId": "bbf988b9-4a64-4f20-c182-0ea192de13ac"
      },
      "execution_count": 59,
      "outputs": [
        {
          "output_type": "stream",
          "name": "stdout",
          "text": [
            "Target value 101, time: 0.45842814445495605\n"
          ]
        }
      ]
    },
    {
      "cell_type": "code",
      "source": [
        "# Value to search for\n",
        "target_value = 101\n",
        "\n",
        "# Start measuring time for search\n",
        "random_integers_set = set(random_integers)\n",
        "start_time = time.time()\n",
        "\n",
        "# Check if the target value is in the list\n",
        "if target_value in random_integers_set:\n",
        "  search_time = time.time() - start_time\n",
        "  print(f\"Target value {target_value}, time: {search_time}\")"
      ],
      "metadata": {
        "colab": {
          "base_uri": "https://localhost:8080/"
        },
        "id": "TvAjlqEMVh4y",
        "outputId": "03a0beb0-8cd4-49c5-ce2d-9293f4a9b691"
      },
      "execution_count": 58,
      "outputs": [
        {
          "output_type": "stream",
          "name": "stdout",
          "text": [
            "Target value 101, time: 9.202957153320312e-05\n"
          ]
        }
      ]
    },
    {
      "cell_type": "code",
      "source": [
        "#1. word frequency counter\n",
        "string = \"hello world hello\"\n",
        "dictionary = {}\n",
        "\n",
        "def word_frequency_counter(string):\n",
        "  dictionary = {}\n",
        "  array = string.split(\" \")\n",
        "  for s in array:\n",
        "    if s in dictionary:\n",
        "      dictionary[s] += 1\n",
        "    else:\n",
        "      dictionary[s] = 1\n",
        "  return dictionary\n",
        "\n",
        "dictionary = word_frequency_counter(string)\n",
        "print(dictionary)"
      ],
      "metadata": {
        "colab": {
          "base_uri": "https://localhost:8080/"
        },
        "id": "ArHEP7NKKjmz",
        "outputId": "e6a3f886-1832-4182-b587-bbeaa201c775"
      },
      "execution_count": 1,
      "outputs": [
        {
          "output_type": "stream",
          "name": "stdout",
          "text": [
            "{'hello': 2, 'world': 1}\n"
          ]
        }
      ]
    },
    {
      "cell_type": "code",
      "source": [
        "#2. dictionary merger\n",
        "dictionary1 = {'a': 1, 'b': 2}\n",
        "dictionary2 = {'b': 3, 'c': 4}\n",
        "\n",
        "def merge_dictionaries(dictionary1, dictionary2):\n",
        "  for s in dictionary2.keys():\n",
        "    if s in dictionary1:\n",
        "      dictionary1[s] += dictionary2[s]\n",
        "    else:\n",
        "      dictionary1[s] = dictionary2[s]\n",
        "  return dictionary1\n",
        "\n",
        "dictionary = merge_dictionaries(dictionary1, dictionary2)\n",
        "print(dictionary)"
      ],
      "metadata": {
        "colab": {
          "base_uri": "https://localhost:8080/"
        },
        "id": "6gE1wELmMH4o",
        "outputId": "b8f1f6c7-2bee-40c3-e368-9f8922b39a3a"
      },
      "execution_count": 2,
      "outputs": [
        {
          "output_type": "stream",
          "name": "stdout",
          "text": [
            "{'a': 1, 'b': 5, 'c': 4}\n"
          ]
        }
      ]
    },
    {
      "cell_type": "code",
      "source": [
        "#3. are anagrams\n",
        "def are_anagrams(string1, string2):\n",
        "  dictionary1 = {}\n",
        "  dictionary2 = {}\n",
        "  for c in string1:\n",
        "    if c in dictionary1.keys():\n",
        "      dictionary1[c] += 1\n",
        "    else:\n",
        "      dictionary1[c] = 1\n",
        "\n",
        "  for c in string2:\n",
        "    if c in dictionary2.keys():\n",
        "      dictionary2[c] += 1\n",
        "    else:\n",
        "      dictionary2[c] = 1\n",
        "  return dictionary1 == dictionary2\n",
        "\n",
        "are_anagrams(\"listen\", \"silent\")"
      ],
      "metadata": {
        "colab": {
          "base_uri": "https://localhost:8080/"
        },
        "id": "ivs3bjHCNYul",
        "outputId": "6959d94a-bfe2-47fa-9b75-93b79e782ea6"
      },
      "execution_count": 24,
      "outputs": [
        {
          "output_type": "execute_result",
          "data": {
            "text/plain": [
              "True"
            ]
          },
          "metadata": {},
          "execution_count": 24
        }
      ]
    },
    {
      "cell_type": "code",
      "source": [
        "def are_anagrams(string1, string2):\n",
        "  return string1.split().sort() == string2.split().sort()\n",
        "\n",
        "are_anagrams(\"listen\", \"silent\")"
      ],
      "metadata": {
        "colab": {
          "base_uri": "https://localhost:8080/"
        },
        "id": "vs0GTNr5pn_s",
        "outputId": "42ea555c-2fac-46bb-f292-f44bcf3ade99"
      },
      "execution_count": 4,
      "outputs": [
        {
          "output_type": "execute_result",
          "data": {
            "text/plain": [
              "True"
            ]
          },
          "metadata": {},
          "execution_count": 4
        }
      ]
    },
    {
      "cell_type": "code",
      "source": [
        "#4. is palindrome\n",
        "def is_palindrome(string):\n",
        "  palindrome_string = \"\"\n",
        "  for c in string:\n",
        "    if c.isalpha():\n",
        "      palindrome_string += c\n",
        "  palindrome_string = palindrome_string.lower()\n",
        "  return palindrome_string == palindrome_string[::-1]\n",
        "\n",
        "is_palindrome(\"A man a plan a canal Panama\")"
      ],
      "metadata": {
        "colab": {
          "base_uri": "https://localhost:8080/"
        },
        "id": "Qug9dmnKOeb8",
        "outputId": "bfe2a0a6-dedb-427f-a630-fa97081b36e9"
      },
      "execution_count": 25,
      "outputs": [
        {
          "output_type": "execute_result",
          "data": {
            "text/plain": [
              "True"
            ]
          },
          "metadata": {},
          "execution_count": 25
        }
      ]
    },
    {
      "cell_type": "code",
      "source": [
        "#5. compress string\n",
        "def compress_string(string):\n",
        "  compressed_string = \"\"\n",
        "  i = 0\n",
        "  while i < len(string):\n",
        "    char = string[i]\n",
        "    count = 1\n",
        "    i += 1\n",
        "    if i >= len(string):\n",
        "        break\n",
        "    while char == string[i]:\n",
        "      count += 1\n",
        "      i += 1\n",
        "      if i >= len(string):\n",
        "        break\n",
        "    compressed_string += char + str(count)\n",
        "  if len(compressed_string) >= len(string):\n",
        "    return string\n",
        "  return compressed_string\n",
        "\n",
        "compress_string(\"aabcccccaaa\")"
      ],
      "metadata": {
        "colab": {
          "base_uri": "https://localhost:8080/",
          "height": 35
        },
        "id": "RuXPrZZKPbei",
        "outputId": "49c04e66-c0bc-4a07-d21b-7236de992abb"
      },
      "execution_count": 5,
      "outputs": [
        {
          "output_type": "execute_result",
          "data": {
            "text/plain": [
              "'a2b1c5a3'"
            ],
            "application/vnd.google.colaboratory.intrinsic+json": {
              "type": "string"
            }
          },
          "metadata": {},
          "execution_count": 5
        }
      ]
    },
    {
      "cell_type": "code",
      "source": [
        "#6. rotate list\n",
        "def rotate_list(array, amount):\n",
        "  rotated_list = array[-(amount%len(array)):]\n",
        "  rotated_list.extend(array[:-(amount%len(array))])\n",
        "  return rotated_list\n",
        "\n",
        "rotate_list([1,2,3,4,5], 2)"
      ],
      "metadata": {
        "colab": {
          "base_uri": "https://localhost:8080/"
        },
        "id": "iMBZYexTRyx6",
        "outputId": "844afdd4-2fc9-427c-ac8b-fe5fe6164102"
      },
      "execution_count": 44,
      "outputs": [
        {
          "output_type": "execute_result",
          "data": {
            "text/plain": [
              "[4, 5, 1, 2, 3]"
            ]
          },
          "metadata": {},
          "execution_count": 44
        }
      ]
    },
    {
      "cell_type": "code",
      "source": [
        "#7. remove duplicates\n",
        "def remove_duplicates(array):\n",
        "  new_array = []\n",
        "  for e in array:\n",
        "    if e not in new_array:\n",
        "      new_array.append(e)\n",
        "  return new_array\n",
        "\n",
        "remove_duplicates([1, 2, 2, 3, 4, 4, 5])"
      ],
      "metadata": {
        "colab": {
          "base_uri": "https://localhost:8080/"
        },
        "id": "4iSeMDK3Raai",
        "outputId": "7a000154-4ea7-4c24-8d86-337dd9f3194c"
      },
      "execution_count": 8,
      "outputs": [
        {
          "output_type": "stream",
          "name": "stdout",
          "text": [
            "{1, 2, 3, 4, 5}\n"
          ]
        }
      ]
    }
  ]
}